{
 "cells": [
  {
   "cell_type": "markdown",
   "metadata": {},
   "source": [
    "# AI Agent with OpenAI and Comparision to Amazon Bedrock Agent\n",
    "\n",
    "For more details, please refer to my blog\n",
    "[AI Agent: OpenAI AgentSDK vs Amazon Bedrock]()"
   ]
  },
  {
   "cell_type": "markdown",
   "metadata": {},
   "source": [
    "## OpenAI Agent SDK\n",
    "\n",
    "A simple demo of creating AI Agent with OpenAI Agent SDK\n",
    "- Basic Agent\n",
    "- Multi-agent collaboration\n",
    "    - handoffs\n",
    "    - agent as tools"
   ]
  },
  {
   "cell_type": "markdown",
   "metadata": {},
   "source": [
    "### Set up"
   ]
  },
  {
   "cell_type": "code",
   "execution_count": null,
   "metadata": {},
   "outputs": [],
   "source": [
    "# Virtual Environment\n",
    "%%python3 -m venv .venv\n",
    "%source .venv/bin/activate\n",
    "# Install Package\n",
    "# OpenAI Agent SDK\n",
    "%pip install openai-agents\n",
    "# Amazon Bedrock\n",
    "%pip install boto3\n",
    "%pip install botocore"
   ]
  },
  {
   "cell_type": "code",
   "execution_count": null,
   "metadata": {},
   "outputs": [],
   "source": [
    "from agents import Agent, Runner, set_default_openai_key\n",
    "\n",
    "# Set up OpenAI API KEY\n",
    "OPENAI_API_KEY=\"sk-...\"\n",
    "set_default_openai_key(OPENAI_API_KEY)"
   ]
  },
  {
   "cell_type": "markdown",
   "metadata": {},
   "source": [
    "### Basic agent"
   ]
  },
  {
   "cell_type": "code",
   "execution_count": 34,
   "metadata": {},
   "outputs": [],
   "source": [
    "pokemon_agent = Agent(\n",
    "    name=\"Pokemon agent\",\n",
    "    instructions=\"You are specialized in pokemons. Your job is to help user understanding pokemon types and choosing the correct pokemon to use in pokemon battle.\",\n",
    ")"
   ]
  },
  {
   "cell_type": "code",
   "execution_count": null,
   "metadata": {},
   "outputs": [],
   "source": [
    "result = await Runner.run(pokemon_agent, \"Help me to find a pokemon for battling.\")\n",
    "print(result.final_output)"
   ]
  },
  {
   "cell_type": "markdown",
   "metadata": {},
   "source": [
    "### Basic HandsOff"
   ]
  },
  {
   "cell_type": "code",
   "execution_count": 27,
   "metadata": {},
   "outputs": [],
   "source": [
    "fgo_agent = Agent(\n",
    "    name=\"Fgo agent\",\n",
    "    instructions=\"You are an experienced player in Fate/Grand-Order mobile gamp app. Your job is to help user choose servants for different game stages and provide them a good battle strategy.\",\n",
    ")"
   ]
  },
  {
   "cell_type": "code",
   "execution_count": null,
   "metadata": {},
   "outputs": [],
   "source": [
    "game_agent = Agent(\n",
    "    name=\"Gameplay agent\",\n",
    "    handoffs=[pokemon_agent, fgo_agent],\n",
    "    instructions=\"You are a gameplay supervisor. You determine which agent to use based on the user’s request.\"\n",
    ")"
   ]
  },
  {
   "cell_type": "code",
   "execution_count": null,
   "metadata": {},
   "outputs": [],
   "source": [
    "result = await Runner.run(\n",
    "    game_agent,\n",
    "    \"I am playing FGO and Pokémon card game right now. Help me choose a Pokémon to battle and couple FGO servants to beat the newest stage.\"\n",
    ")\n",
    "print(result.final_output)"
   ]
  },
  {
   "cell_type": "markdown",
   "metadata": {},
   "source": [
    "#### Agent As Tool"
   ]
  },
  {
   "cell_type": "code",
   "execution_count": 28,
   "metadata": {},
   "outputs": [],
   "source": [
    "game_agent = Agent(\n",
    "    name=\"Gameplay agent\",\n",
    "    tools= [\n",
    "        pokemon_agent.as_tool(\n",
    "            tool_name=\"help_play_pokemon\",\n",
    "            tool_description=\"help user understanding pokemon types and choosing the correct pokemon to use in pokemon battle.\"\n",
    "        ),\n",
    "        fgo_agent.as_tool(\n",
    "            tool_name=\"help_play_fgo\",\n",
    "            tool_description=\"help user choose servants for different game stages and provide them a good battle strategy.\"\n",
    "\n",
    "        )\n",
    "    ],\n",
    "    instructions=\"You are a gameplay supervisor. You use the tool given to you based on the user’s request.\"\n",
    ")"
   ]
  },
  {
   "cell_type": "code",
   "execution_count": null,
   "metadata": {},
   "outputs": [
    {
     "name": "stdout",
     "output_type": "stream",
     "text": [
      "Could you provide details on both:\n",
      "\n",
      "1. The Pokémon you or your opponent might be using.\n",
      "2. Specifics of the FGO stage you’re taking on (enemy classes, type of stage, any special mechanics, and your available high-level servants).\n",
      "\n",
      "This will help me give you the best advice!\n"
     ]
    }
   ],
   "source": [
    "result = await Runner.run(\n",
    "    game_agent,\n",
    "    \"I am playing FGO and Pokémon card game right now. Help me choose a Pokémon to battle and couple FGO servants to beat the newest stage.\"\n",
    ")\n",
    "print(result.final_output)"
   ]
  },
  {
   "cell_type": "code",
   "execution_count": null,
   "metadata": {},
   "outputs": [
    {
     "name": "stdout",
     "output_type": "stream",
     "text": [
      "Could you please specify the game or area you need recommendations for? For example, Pokémon battles or Fate/Grand Order strategies?\n"
     ]
    }
   ],
   "source": [
    "# demo of memory not being supported by OpenAI Agent\n",
    "result = await Runner.run(\n",
    "    game_agent,\n",
    "    \"Can I get a general recommendation?\"\n",
    ")\n",
    "print(result.final_output)"
   ]
  },
  {
   "cell_type": "markdown",
   "metadata": {},
   "source": [
    "## Bedrock Comparison\n",
    "\n",
    "A demo on caling bedrock agent to show the difference to OpenAI Agents in terms of **memory**.\n",
    "- bedrock agent supports memory and is able to continue onto a conversation by providing the same `sessionId`\n",
    "- To support cross-session memory, first [enable it either from the console or using the SDK](https://docs.aws.amazon.com/bedrock/latest/userguide/agents-configure-memory.html), and then pass in the same `memoryId` when call `invoke_agent`\n",
    "\n",
    "<br>\n",
    "\n",
    "For details on creating bedrock agents, please refer to my articles\n",
    "- [Create Our Own AI Agent with Amazon Bedrock](https://levelup.gitconnected.com/create-our-own-ai-agent-with-amazon-bedrock-96060e4eca43)\n",
    "= [Amazon Bedrock: Multi-Agent Collaborations](https://medium.com/@itsuki.enjoy/amazon-bedrock-multi-agent-collaborations-c914b27ad5f2)"
   ]
  },
  {
   "cell_type": "code",
   "execution_count": null,
   "metadata": {},
   "outputs": [],
   "source": [
    "import boto3\n",
    "import json\n",
    "\n",
    "agent_id = \"...\"\n",
    "agent_alias_id = \"...\"\n",
    "# By using the same session ID, we can continue the same conversation with an agent\n",
    "session_id = \"00000001\""
   ]
  },
  {
   "cell_type": "code",
   "execution_count": null,
   "metadata": {},
   "outputs": [],
   "source": [
    "runtime_client = boto3.client(\n",
    "    service_name=\"bedrock-agent-runtime\",\n",
    "    region_name=\"ap-northeast-1\",\n",
    ")"
   ]
  },
  {
   "cell_type": "code",
   "execution_count": null,
   "metadata": {},
   "outputs": [],
   "source": [
    "# For processing EventStream\n",
    "def process_stream(event_stream):\n",
    "    final_answer = None\n",
    "    try:\n",
    "        for event in event_stream:\n",
    "            if 'chunk' in event:\n",
    "                data = event['chunk']['bytes']\n",
    "                final_answer = data.decode('utf8')\n",
    "                print(f\"Final answer ->\\n{final_answer}\")\n",
    "                end_event_received = True\n",
    "            elif 'trace' in event:\n",
    "                print(json.dumps(event['trace'], indent=2))\n",
    "            else:\n",
    "                raise Exception(\"unexpected event.\", event)\n",
    "    except Exception as e:\n",
    "        raise Exception(\"unexpected event.\",e)\n",
    "\n",
    "    return final_answer"
   ]
  },
  {
   "cell_type": "code",
   "execution_count": null,
   "metadata": {},
   "outputs": [],
   "source": [
    "# https://boto3.amazonaws.com/v1/documentation/api/latest/reference/services/index.html\n",
    "response = runtime_client.invoke_agent(\n",
    "    agentId=agent_id,\n",
    "    agentAliasId=agent_alias_id,\n",
    "    sessionId=session_id,\n",
    "    inputText=\"I am playing FGO and Pokémon card game right now. Help me choose a Pokémon to battle and couple FGO servants to beat the newest stage.\",\n",
    ")"
   ]
  },
  {
   "cell_type": "code",
   "execution_count": null,
   "metadata": {},
   "outputs": [
    {
     "name": "stdout",
     "output_type": "stream",
     "text": [
      "Final answer ->\n",
      "Thank you for your question about both Pokémon card game and Fate/Grand Order (FGO). I've gathered some advice for you on both games.\n",
      "\n",
      "For Pokémon card game:\n",
      "When choosing a Pokémon for battle, consider these factors:\n",
      "1. Type advantages: Select Pokémon with types strong against your opponent's Pokémon.\n",
      "2. Stats and abilities: Look for Pokémon with high relevant stats and useful abilities.\n",
      "3. Movesets: Choose Pokémon with diverse and powerful moves.\n",
      "4. Team balance: Ensure a good mix of types and roles in your team.\n",
      "5. Experience level: Higher-level Pokémon generally perform better.\n",
      "6. Special abilities: Some Pokémon have unique abilities that can give you an edge.\n",
      "\n",
      "For Fate/Grand Order:\n",
      "When selecting servants for a new stage, keep in mind:\n",
      "1. Class advantage: Choose servants with advantage against the stage's enemies.\n",
      "2. Team balance: Include a mix of damage dealers, support, and defensive servants.\n",
      "3. Stage gimmicks: Consider any special mechanics that might require specific skills or Noble Phantasms.\n",
      "4. Servant synergy: Select servants whose abilities complement each other.\n",
      "\n",
      "To provide more specific recommendations for both games, it would be helpful to have more details:\n",
      "\n",
      "For Pokémon:\n",
      "- What type of Pokémon are you facing?\n",
      "- What Pokémon do you have available?\n",
      "- Are there any specific rules or formats for this battle?\n",
      "\n",
      "For FGO:\n",
      "- What is the specific stage or event you're attempting?\n",
      "- Do you know the enemy classes or any boss information?\n",
      "- What servants do you have available and at what levels?\n",
      "- Are you facing any particular challenges in the stage?\n",
      "\n",
      "Could you provide more details about the specific Pokémon battle you're preparing for and the FGO stage you're trying to beat? This will allow me to give you more tailored advice for both games.\n"
     ]
    }
   ],
   "source": [
    "answer = process_stream(response.get(\"completion\"))"
   ]
  },
  {
   "cell_type": "code",
   "execution_count": 19,
   "metadata": {},
   "outputs": [],
   "source": [
    "response = runtime_client.invoke_agent(\n",
    "    agentId=agent_id,\n",
    "    agentAliasId=agent_alias_id,\n",
    "    sessionId=session_id,\n",
    "    inputText=\"Can I get a general recommendation?\",\n",
    ")"
   ]
  },
  {
   "cell_type": "code",
   "execution_count": null,
   "metadata": {},
   "outputs": [
    {
     "name": "stdout",
     "output_type": "stream",
     "text": [
      "Final answer ->\n",
      "Certainly! I'd be happy to provide you with some general recommendations for both Pokémon and Fate/Grand Order.\n",
      "\n",
      "For Pokémon:\n",
      "A versatile Pokémon that's generally good in many battle situations is Charizard. Here's why:\n",
      "1. Dual typing (Fire/Flying) gives it advantages against multiple types.\n",
      "2. Strong Special Attack and Speed stats make it a powerful offensive Pokémon.\n",
      "3. Diverse movepool allows it to learn a variety of moves for different situations.\n",
      "4. Mega Evolution options (where available) increase its versatility.\n",
      "5. Useful abilities (Blaze or Solar Power) can provide additional power boosts.\n",
      "\n",
      "Charizard's combination of power, speed, and type coverage makes it a solid choice for many battle scenarios. However, be cautious of its weaknesses to Rock, Electric, and Water types.\n",
      "\n",
      "For Fate/Grand Order:\n",
      "Here are some versatile servants that are generally good in many situations, including newer stages:\n",
      "\n",
      "1. Zhuge Liang (Lord El-Melloi II): An excellent support Caster who can charge NP, boost attack, and provide critical stars.\n",
      "\n",
      "2. Merlin: A top-tier support Caster offering healing, NP charge, and powerful buffs, including invincibility.\n",
      "\n",
      "3. Artoria Pendragon (Caster): A powerful Arts support servant with NP charge, critical star generation, and Arts performance boost.\n",
      "\n",
      "4. Arjuna (Alter): A strong Berserker with high damage potential and efficient wave clearing abilities.\n",
      "\n",
      "5. Space Ishtar: An Avenger with the unique ability to change her NP type, making her adaptable to different team compositions.\n",
      "\n",
      "These servants are known for their versatility and can form the core of a strong team for most content. Remember to consider class advantage and specific stage mechanics when making your final team selection.\n",
      "\n",
      "I hope these general recommendations help you in both your Pokémon battles and FGO stages. If you need more specific advice, feel free to provide more details about your current situation in either game.\n"
     ]
    }
   ],
   "source": [
    "answer = process_stream(response.get(\"completion\"))"
   ]
  }
 ],
 "metadata": {
  "kernelspec": {
   "display_name": ".venv",
   "language": "python",
   "name": "python3"
  },
  "language_info": {
   "codemirror_mode": {
    "name": "ipython",
    "version": 3
   },
   "file_extension": ".py",
   "mimetype": "text/x-python",
   "name": "python",
   "nbconvert_exporter": "python",
   "pygments_lexer": "ipython3",
   "version": "3.12.9"
  }
 },
 "nbformat": 4,
 "nbformat_minor": 2
}
